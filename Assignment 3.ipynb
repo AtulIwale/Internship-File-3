{
 "cells": [
  {
   "cell_type": "markdown",
   "id": "69fd4d8d",
   "metadata": {},
   "source": [
    "1) D"
   ]
  },
  {
   "cell_type": "markdown",
   "id": "27d4c524",
   "metadata": {},
   "source": [
    "2) B"
   ]
  },
  {
   "cell_type": "markdown",
   "id": "b6349706",
   "metadata": {},
   "source": [
    "3) C"
   ]
  },
  {
   "cell_type": "markdown",
   "id": "04795edc",
   "metadata": {},
   "source": [
    "4) C"
   ]
  },
  {
   "cell_type": "markdown",
   "id": "e9d90c68",
   "metadata": {},
   "source": [
    "5) C"
   ]
  },
  {
   "cell_type": "markdown",
   "id": "d44e5db6",
   "metadata": {},
   "source": [
    "6) All of the options (a) Support Vector, (b) Regression, (c) Case based, and (d) Classification are valid function representations used in machine learning."
   ]
  },
  {
   "cell_type": "markdown",
   "id": "6fbc9e76",
   "metadata": {},
   "source": [
    "7) D"
   ]
  },
  {
   "cell_type": "markdown",
   "id": "eaacb792",
   "metadata": {},
   "source": [
    "8) C"
   ]
  },
  {
   "cell_type": "markdown",
   "id": "2a1d9d58",
   "metadata": {},
   "source": [
    "9) B"
   ]
  },
  {
   "cell_type": "markdown",
   "id": "5aaf3699",
   "metadata": {},
   "source": [
    "10) D"
   ]
  },
  {
   "cell_type": "markdown",
   "id": "d6b73688",
   "metadata": {},
   "source": [
    "11) C"
   ]
  },
  {
   "cell_type": "markdown",
   "id": "c066d816",
   "metadata": {},
   "source": [
    "12) B"
   ]
  },
  {
   "cell_type": "markdown",
   "id": "ea1a2154",
   "metadata": {},
   "source": [
    "13) B"
   ]
  },
  {
   "cell_type": "markdown",
   "id": "1f9eec10",
   "metadata": {},
   "source": [
    "14) A"
   ]
  },
  {
   "cell_type": "markdown",
   "id": "24a573bb",
   "metadata": {},
   "source": [
    "15) B"
   ]
  },
  {
   "cell_type": "markdown",
   "id": "f2847661",
   "metadata": {},
   "source": [
    "16) A"
   ]
  },
  {
   "cell_type": "markdown",
   "id": "c6a90764",
   "metadata": {},
   "source": [
    "17) A"
   ]
  },
  {
   "cell_type": "markdown",
   "id": "95e4b596",
   "metadata": {},
   "source": [
    "18) C"
   ]
  },
  {
   "cell_type": "markdown",
   "id": "2e6bc27e",
   "metadata": {},
   "source": [
    "19) B"
   ]
  },
  {
   "cell_type": "markdown",
   "id": "2f2b76ed",
   "metadata": {},
   "source": [
    "20) C"
   ]
  },
  {
   "cell_type": "markdown",
   "id": "a0149b9f",
   "metadata": {},
   "source": [
    "21) A"
   ]
  },
  {
   "cell_type": "markdown",
   "id": "aadac774",
   "metadata": {},
   "source": [
    "22) B"
   ]
  },
  {
   "cell_type": "markdown",
   "id": "091beab1",
   "metadata": {},
   "source": [
    "23) A"
   ]
  },
  {
   "cell_type": "markdown",
   "id": "3952ba36",
   "metadata": {},
   "source": [
    "24) A"
   ]
  },
  {
   "cell_type": "markdown",
   "id": "bdacfb67",
   "metadata": {},
   "source": [
    "25) C"
   ]
  },
  {
   "cell_type": "markdown",
   "id": "c92d4b9f",
   "metadata": {},
   "source": [
    "26) D"
   ]
  },
  {
   "cell_type": "markdown",
   "id": "2ef18650",
   "metadata": {},
   "source": [
    "27) B"
   ]
  },
  {
   "cell_type": "markdown",
   "id": "182d2e91",
   "metadata": {},
   "source": [
    "28) D"
   ]
  },
  {
   "cell_type": "markdown",
   "id": "b86e5c42",
   "metadata": {},
   "source": [
    "29) B"
   ]
  },
  {
   "cell_type": "markdown",
   "id": "fdc92492",
   "metadata": {},
   "source": [
    "30) B"
   ]
  },
  {
   "cell_type": "code",
   "execution_count": null,
   "id": "dfeda84a",
   "metadata": {},
   "outputs": [],
   "source": []
  }
 ],
 "metadata": {
  "kernelspec": {
   "display_name": "Python 3 (ipykernel)",
   "language": "python",
   "name": "python3"
  },
  "language_info": {
   "codemirror_mode": {
    "name": "ipython",
    "version": 3
   },
   "file_extension": ".py",
   "mimetype": "text/x-python",
   "name": "python",
   "nbconvert_exporter": "python",
   "pygments_lexer": "ipython3",
   "version": "3.9.12"
  }
 },
 "nbformat": 4,
 "nbformat_minor": 5
}
